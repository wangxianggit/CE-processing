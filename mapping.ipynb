{
 "cells": [
  {
   "cell_type": "markdown",
   "metadata": {},
   "source": [
    "## Energy calibration and pileup detection"
   ]
  },
  {
   "cell_type": "code",
   "execution_count": 1,
   "metadata": {},
   "outputs": [],
   "source": [
    "#include \"mapping.cpp\""
   ]
  },
  {
   "cell_type": "code",
   "execution_count": 2,
   "metadata": {},
   "outputs": [],
   "source": [
    "TFile *ipf=new TFile(\"../all_alpha/allpha/run00335_wave.root\");\n",
    "char opfn[124];\n",
    "int runnum=335;\n",
    "sprintf(opfn,\"./map%05d.root\",runnum); \n",
    "TFile *opf=new TFile(opfn,\"RECREATE\");\n",
    "TTree *opt=new TTree(\"tree\",\"tree\");\n",
    "mapping *mp=new mapping(opt);"
   ]
  },
  {
   "cell_type": "code",
   "execution_count": 3,
   "metadata": {
    "scrolled": false
   },
   "outputs": [
    {
     "name": "stdout",
     "output_type": "stream",
     "text": [
      "Board N: 0 done! run335\n",
      "Board N: 1 done! run335\n",
      "Board N: 2 done! run335\n",
      "Board N: 3 done! run335\n",
      "Board N: 4 done! run335\n",
      "Board N: 5 done! run335\n",
      "Board N: 6 done! run335\n",
      "Board N: 7 done! run335\n",
      "Board N: 8 done! run335\n",
      "Board N: 9 done! run335\n",
      "Board N: 10 done! run335\n",
      "Board N: 11 done! run335\n",
      "Board N: 12 done! run335\n",
      "Board N: 13 done! run335\n",
      "Board N: 14 done! run335\n",
      "Board N: 15 done! run335\n",
      "Board N: 16 done! run335\n",
      "Board N: 17 done! run335\n",
      "Board N: 18 done! run335\n",
      "Board N: 19 done! run335\n",
      "Board N: 20 done! run335\n",
      "Board N: 21 done! run335\n",
      "Board N: 22 done! run335\n",
      "Board N: 23 done! run335\n",
      "Board N: 24 done! run335\n",
      "Board N: 25 done! run335\n",
      "Board N: 26 done! run335\n"
     ]
    }
   ],
   "source": [
    "mp->Readpar();\n",
    "#ifdef HIST\n",
    "    mp->SetHist();//create histogram for superpulse\n",
    "#endif\n",
    "for(int i=0;i<27;i++){//27\n",
    "    char tn[124];\n",
    "    sprintf(tn,\"DGTZ%02d\",i);\n",
    "    TTree *ipt=(TTree*)ipf->Get(tn);\n",
    "    if(ipt==0) {\n",
    "        cout<<\"Cannot find tree: \"<<tn<<endl;\n",
    "        continue;\n",
    "    }\n",
    "    opf->cd();\n",
    "    mp->Loop(ipt,i,opt);\n",
    "    cout<<\"Board N: \"<<i<<\" done! run\"<<runnum<<endl;\n",
    "    }\n",
    "opt->Write();\n",
    "#ifdef HIST\n",
    "    mp->WriteHist(runnum);\n",
    "#endif\n",
    "opf->Close();"
   ]
  },
  {
   "cell_type": "code",
   "execution_count": null,
   "metadata": {},
   "outputs": [],
   "source": []
  }
 ],
 "metadata": {
  "kernelspec": {
   "display_name": "ROOT C++",
   "language": "c++",
   "name": "root"
  },
  "language_info": {
   "codemirror_mode": "text/x-c++src",
   "file_extension": ".C",
   "mimetype": " text/x-c++src",
   "name": "c++"
  }
 },
 "nbformat": 4,
 "nbformat_minor": 2
}
