{
 "cells": [
  {
   "cell_type": "markdown",
   "metadata": {},
   "source": [
    "## Pulse fit for pile-pu energies"
   ]
  },
  {
   "cell_type": "code",
   "execution_count": 1,
   "metadata": {},
   "outputs": [],
   "source": [
    "#include \"spulse.cpp\""
   ]
  },
  {
   "cell_type": "code",
   "execution_count": 2,
   "metadata": {},
   "outputs": [],
   "source": [
    "int runnum=335;\n",
    "char sufile[124];\n",
    "TFile *ipf=new TFile(\"map00335.root\");\n",
    "TTree *ipt=(TTree*)ipf->Get(\"tree\");\n",
    "TFile *opf=new TFile(\"spulse00335.root\",\"RECREATE\");\n",
    "TTree *opt=new TTree(\"tree\",\"tree\");\n",
    "spulse *sr=new spulse(ipt, runnum);"
   ]
  },
  {
   "cell_type": "code",
   "execution_count": 3,
   "metadata": {
    "scrolled": true
   },
   "outputs": [
    {
     "name": "stdout",
     "output_type": "stream",
     "text": [
      "pulse\n",
      "69074\n",
      "0 0\n",
      "2000 2\n",
      "5000 7\n",
      "7000 10\n",
      "8000 11\n",
      "10000 14\n",
      "11000 15\n",
      "20000 28\n",
      "21000 30\n",
      "23000 33\n",
      "25000 36\n",
      "26000 37\n",
      "27000 39\n",
      "28000 40\n",
      "31000 44\n",
      "33000 47\n",
      "34000 49\n",
      "35000 50\n",
      "36000 52\n",
      "37000 53\n",
      "38000 55\n",
      "40000 57\n",
      "41000 59\n",
      "42000 60\n",
      "43000 62\n",
      "44000 63\n",
      "45000 65\n",
      "47000 68\n",
      "49000 70\n",
      "51000 73\n",
      "52000 75\n",
      "53000 76\n",
      "54000 78\n",
      "55000 79\n",
      "56000 81\n",
      "57000 82\n",
      "58000 83\n",
      "60000 86\n",
      "61000 88\n",
      "62000 89\n",
      "63000 91\n",
      "64000 92\n",
      "65000 94\n",
      "66000 95\n",
      "67000 96\n",
      "69000 99\n"
     ]
    }
   ],
   "source": [
    "sr->Readpar();\n",
    "sprintf(sufile,\"./hist00335.root\");\n",
    "sr->ReadSuperPulse(sufile);\n",
    "opf->cd();\n",
    "sr->BranchOpt(opt);\n",
    "cout<<\"pulse\"<<endl;\n",
    "sr->Loop(opt);\n",
    "opt->Write();\n",
    "opf->Close();"
   ]
  },
  {
   "cell_type": "code",
   "execution_count": null,
   "metadata": {},
   "outputs": [],
   "source": []
  }
 ],
 "metadata": {
  "kernelspec": {
   "display_name": "ROOT C++",
   "language": "c++",
   "name": "root"
  },
  "language_info": {
   "codemirror_mode": "text/x-c++src",
   "file_extension": ".C",
   "mimetype": " text/x-c++src",
   "name": "c++"
  }
 },
 "nbformat": 4,
 "nbformat_minor": 2
}
